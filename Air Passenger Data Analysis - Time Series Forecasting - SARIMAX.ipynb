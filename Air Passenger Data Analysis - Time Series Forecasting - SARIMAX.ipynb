{
 "cells": [
  {
   "cell_type": "markdown",
   "id": "dc351e7c",
   "metadata": {},
   "source": [
    "## Import Modules"
   ]
  },
  {
   "cell_type": "code",
   "execution_count": 1,
   "id": "4860facd",
   "metadata": {},
   "outputs": [
    {
     "name": "stderr",
     "output_type": "stream",
     "text": [
      "C:\\Users\\Aswin\\AppData\\Roaming\\Python\\Python311\\site-packages\\pandas\\core\\arrays\\masked.py:60: UserWarning: Pandas requires version '1.3.6' or newer of 'bottleneck' (version '1.3.5' currently installed).\n",
      "  from pandas.core import (\n"
     ]
    }
   ],
   "source": [
    "import pandas as pd\n",
    "import numpy as np\n",
    "import statsmodels.api as sm\n",
    "from statsmodels.tsa.seasonal import seasonal_decompose\n",
    "import matplotlib.pyplot as plt\n",
    "import seaborn as sns\n",
    "import warnings\n",
    "warnings.filterwarnings('ignore')"
   ]
  },
  {
   "cell_type": "markdown",
   "id": "544196b0",
   "metadata": {},
   "source": [
    "## Load the Dataset"
   ]
  },
  {
   "cell_type": "code",
   "execution_count": 2,
   "id": "40a35522",
   "metadata": {},
   "outputs": [
    {
     "data": {
      "text/html": [
       "<div>\n",
       "<style scoped>\n",
       "    .dataframe tbody tr th:only-of-type {\n",
       "        vertical-align: middle;\n",
       "    }\n",
       "\n",
       "    .dataframe tbody tr th {\n",
       "        vertical-align: top;\n",
       "    }\n",
       "\n",
       "    .dataframe thead th {\n",
       "        text-align: right;\n",
       "    }\n",
       "</style>\n",
       "<table border=\"1\" class=\"dataframe\">\n",
       "  <thead>\n",
       "    <tr style=\"text-align: right;\">\n",
       "      <th></th>\n",
       "      <th>#Passengers</th>\n",
       "    </tr>\n",
       "    <tr>\n",
       "      <th>Month</th>\n",
       "      <th></th>\n",
       "    </tr>\n",
       "  </thead>\n",
       "  <tbody>\n",
       "    <tr>\n",
       "      <th>1949-01</th>\n",
       "      <td>112</td>\n",
       "    </tr>\n",
       "    <tr>\n",
       "      <th>1949-02</th>\n",
       "      <td>118</td>\n",
       "    </tr>\n",
       "    <tr>\n",
       "      <th>1949-03</th>\n",
       "      <td>132</td>\n",
       "    </tr>\n",
       "    <tr>\n",
       "      <th>1949-04</th>\n",
       "      <td>129</td>\n",
       "    </tr>\n",
       "    <tr>\n",
       "      <th>1949-05</th>\n",
       "      <td>121</td>\n",
       "    </tr>\n",
       "  </tbody>\n",
       "</table>\n",
       "</div>"
      ],
      "text/plain": [
       "         #Passengers\n",
       "Month               \n",
       "1949-01          112\n",
       "1949-02          118\n",
       "1949-03          132\n",
       "1949-04          129\n",
       "1949-05          121"
      ]
     },
     "execution_count": 2,
     "metadata": {},
     "output_type": "execute_result"
    }
   ],
   "source": [
    "df = pd.read_csv('AirPassengers.csv')\n",
    "df.set_index('Month', inplace=True)\n",
    "df.head()"
   ]
  },
  {
   "cell_type": "markdown",
   "id": "2f47063a",
   "metadata": {},
   "source": [
    "## Exploratory Data Analysis"
   ]
  },
  {
   "cell_type": "code",
   "execution_count": 3,
   "id": "b2346a8d",
   "metadata": {},
   "outputs": [
    {
     "data": {
      "image/png": 
      "text/plain": [
       "<Figure size 2000x500 with 1 Axes>"
      ]
     },
     "metadata": {},
     "output_type": "display_data"
    }
   ],
   "source": [
    "plt.figure(figsize=(20, 5))\n",
    "plt.plot(df.index, df['#Passengers'], label='#Passengers')\n",
    "plt.xlabel('Date')\n",
    "plt.ylabel('#Passengers')\n",
    "plt.title('#Passengers Over Time')\n",
    "plt.legend()\n",
    "plt.grid(True)\n",
    "plt.xticks(rotation=90)\n",
    "plt.show()"
   ]
  },
  {
   "cell_type": "code",
   "execution_count": 4,
   "id": "2f844898",
   "metadata": {},
   "outputs": [],
   "source": [
    "# perform seasonal decomposition\n",
    "result = seasonal_decompose(df['#Passengers'], model='multiplicative', period=12)"
   ]
  },
  {
   "cell_type": "code",
   "execution_count": 5,
   "id": "0adf4890",
   "metadata": {},
   "outputs": [
    {
     "data": {
      "image/png": "      "text/plain": [
       "<Figure size 1800x1200 with 4 Axes>"
      ]
     },
     "metadata": {},
     "output_type": "display_data"
    }
   ],
   "source": [
    "# plot the components in the graph\n",
    "sns.set(style='whitegrid')\n",
    "\n",
    "plt.figure(figsize=(18,12))\n",
    "\n",
    "# trend component\n",
    "plt.subplot(411)\n",
    "sns.lineplot(data=result.trend)\n",
    "plt.title('Trend')\n",
    "plt.xticks(rotation=90)\n",
    "\n",
    "# seasonal component\n",
    "plt.subplot(412)\n",
    "sns.lineplot(data=result.seasonal)\n",
    "plt.title('Seasonal')\n",
    "plt.xticks(rotation=90)\n",
    "\n",
    "# Residuals component\n",
    "plt.subplot(413)\n",
    "sns.lineplot(data=result.resid)\n",
    "plt.title('Residuals')\n",
    "plt.xticks(rotation=90)\n",
    "\n",
    "# Original data\n",
    "plt.subplot(414)\n",
    "sns.lineplot(data=df['#Passengers'])\n",
    "plt.title('Original Data')\n",
    "plt.xticks(rotation=90)\n",
    "\n",
    "plt.tight_layout()\n",
    "plt.show()"
   ]
  },
  {
   "cell_type": "code",
   "execution_count": 6,
   "id": "d1be1c4a",
   "metadata": {},
   "outputs": [],
   "source": [
    "seasonal_period = 12"
   ]
  },
  {
   "cell_type": "code",
   "execution_count": 7,
   "id": "4b2b3493",
   "metadata": {},
   "outputs": [
    {
     "name": "stdout",
     "output_type": "stream",
     "text": [
      "ADF Statistic: 0.8153688792060482\n",
      "p-value: 0.991880243437641\n"
     ]
    }
   ],
   "source": [
    "from statsmodels.tsa.stattools import adfuller # Augmented Dickey-Fuller Test\n",
    "\n",
    "result = adfuller(df['#Passengers'], autolag='AIC') # Akaike Information Criterion\n",
    "print('ADF Statistic:', result[0])\n",
    "print('p-value:', result[1])"
   ]
  },
  {
   "cell_type": "code",
   "execution_count": 8,
   "id": "d724e851",
   "metadata": {},
   "outputs": [
    {
     "name": "stdout",
     "output_type": "stream",
     "text": [
      "ADF Statistic: -2.8292668241699994\n",
      "p-value: 0.0542132902838255\n"
     ]
    }
   ],
   "source": [
    "# first order differencing\n",
    "result = adfuller(df['#Passengers'].diff().dropna(), autolag='AIC')\n",
    "print('ADF Statistic:', result[0])\n",
    "print('p-value:', result[1])"
   ]
  },
  {
   "cell_type": "code",
   "execution_count": 9,
   "id": "95032cb7",
   "metadata": {},
   "outputs": [
    {
     "name": "stdout",
     "output_type": "stream",
     "text": [
      "ADF Statistic: -16.384231542468505\n",
      "p-value: 2.7328918500142407e-29\n"
     ]
    }
   ],
   "source": [
    "# second order differencing\n",
    "result = adfuller(df['#Passengers'].diff().diff().dropna(), autolag='AIC')\n",
    "print('ADF Statistic:', result[0])\n",
    "print('p-value:', result[1])"
   ]
  },
  {
   "cell_type": "code",
   "execution_count": 10,
   "id": "2e5496b9",
   "metadata": {},
   "outputs": [
    {
     "data": {
      "image/png": 
      "text/plain": [
       "<Figure size 640x480 with 3 Axes>"
      ]
     },
     "metadata": {},
     "output_type": "display_data"
    }
   ],
   "source": [
    "# plot the differencing values\n",
    "fig, (ax1, ax2, ax3) = plt.subplots(3)\n",
    "\n",
    "ax1.plot(df)\n",
    "ax1.set_title('Original Time Series')\n",
    "ax1.axes.xaxis.set_visible(False)\n",
    "\n",
    "ax2.plot(df.diff())\n",
    "ax2.set_title('1st Order Differencing')\n",
    "ax2.axes.xaxis.set_visible(False)\n",
    "\n",
    "ax3.plot(df.diff().diff())\n",
    "ax3.set_title('2nd Order Differencing')\n",
    "ax3.axes.xaxis.set_visible(False)\n",
    "\n",
    "plt.show()"
   ]
  },
  {
   "cell_type": "code",
   "execution_count": 11,
   "id": "d12edafa",
   "metadata": {},
   "outputs": [],
   "source": [
    "# the time series becomes stationary after first order differencing"
   ]
  },
  {
   "cell_type": "markdown",
   "id": "3333815a",
   "metadata": {},
   "source": [
    "## Define Parameters for ARIMA"
   ]
  },
  {
   "cell_type": "code",
   "execution_count": 12,
   "id": "5fb53ff7",
   "metadata": {},
   "outputs": [],
   "source": [
    "# p = 0 # MA - Moving Average - PACF\n",
    "# d = 1 # order of differencing - I\n",
    "# q = 0 # AR - Auto Regressive - ACF"
   ]
  },
  {
   "cell_type": "code",
   "execution_count": 13,
   "id": "579359ed",
   "metadata": {},
   "outputs": [
    {
     "data": {
      "image/png": 
      "text/plain": [
       "<Figure size 1200x700 with 2 Axes>"
      ]
     },
     "metadata": {},
     "output_type": "display_data"
    }
   ],
   "source": [
    "fig, ax = plt.subplots(2, 1, figsize=(12, 7))\n",
    "sm.graphics.tsa.plot_acf(df.diff().dropna(), lags=40, ax=ax[0])\n",
    "sm.graphics.tsa.plot_pacf(df.diff().dropna(), lags=40, ax=ax[1])\n",
    "plt.show()"
   ]
  },
  {
   "cell_type": "code",
   "execution_count": 14,
   "id": "c9cadad2",
   "metadata": {},
   "outputs": [],
   "source": [
    "p = 2 # pacf\n",
    "d = 1 # 1st order difference\n",
    "q = 1 # acf"
   ]
  },
  {
   "cell_type": "code",
   "execution_count": 15,
   "id": "90a25b08",
   "metadata": {},
   "outputs": [],
   "source": [
    "P = 1\n",
    "D = 0\n",
    "Q = 3"
   ]
  },
  {
   "cell_type": "markdown",
   "id": "d83c0328",
   "metadata": {},
   "source": [
    "## Model Training"
   ]
  },
  {
   "cell_type": "code",
   "execution_count": 16,
   "id": "34a3d7a6",
   "metadata": {},
   "outputs": [
    {
     "name": "stdout",
     "output_type": "stream",
     "text": [
      "                                         SARIMAX Results                                          \n",
      "==================================================================================================\n",
      "Dep. Variable:                                #Passengers   No. Observations:                  144\n",
      "Model:             SARIMAX(2, 1, 1)x(1, 0, [1, 2, 3], 12)   Log Likelihood                -563.224\n",
      "Date:                                    Tue, 09 Jul 2024   AIC                           1142.448\n",
      "Time:                                            10:08:00   BIC                           1166.151\n",
      "Sample:                                        01-01-1949   HQIC                          1152.080\n",
      "                                             - 12-01-1960                                         \n",
      "Covariance Type:                                      opg                                         \n",
      "==============================================================================\n",
      "                 coef    std err          z      P>|z|      [0.025      0.975]\n",
      "------------------------------------------------------------------------------\n",
      "ar.L1          0.6247      0.101      6.168      0.000       0.426       0.823\n",
      "ar.L2          0.1947      0.100      1.950      0.051      -0.001       0.390\n",
      "ma.L1         -0.9676      0.039    -24.635      0.000      -1.045      -0.891\n",
      "ar.S.L12       0.9620      0.036     26.697      0.000       0.891       1.033\n",
      "ma.S.L12      -0.1133      0.125     -0.904      0.366      -0.359       0.132\n",
      "ma.S.L24       0.1363      0.129      1.060      0.289      -0.116       0.388\n",
      "ma.S.L36       0.0038      0.147      0.026      0.979      -0.285       0.292\n",
      "sigma2       124.2086     14.751      8.420      0.000      95.297     153.120\n",
      "===================================================================================\n",
      "Ljung-Box (L1) (Q):                   0.01   Jarque-Bera (JB):                16.16\n",
      "Prob(Q):                              0.92   Prob(JB):                         0.00\n",
      "Heteroskedasticity (H):               3.99   Skew:                             0.18\n",
      "Prob(H) (two-sided):                  0.00   Kurtosis:                         4.61\n",
      "===================================================================================\n",
      "\n",
      "Warnings:\n",
      "[1] Covariance matrix calculated using the outer product of gradients (complex-step).\n"
     ]
    }
   ],
   "source": [
    "# define the arima model\n",
    "from statsmodels.tsa.statespace.sarimax import SARIMAX\n",
    "\n",
    "model = SARIMAX(df['#Passengers'], order=(p, d, q), seasonal_order=(P, D, Q, seasonal_period))\n",
    "fitted_model = model.fit()\n",
    "print(fitted_model.summary())"
   ]
  },
  {
   "cell_type": "markdown",
   "id": "e5d15b15",
   "metadata": {},
   "source": [
    "## Forecasting"
   ]
  },
  {
   "cell_type": "code",
   "execution_count": 17,
   "id": "a4487abb",
   "metadata": {},
   "outputs": [],
   "source": [
    "# forecast for next 2 years\n",
    "forecast_steps = 24\n",
    "forecast = fitted_model.get_forecast(steps=forecast_steps)\n",
    "\n",
    "# create the date range for the forecasted values\n",
    "forecast_index = pd.date_range(start=df.index[-1], periods=forecast_steps+1, freq='M')[1:].strftime('%Y-%m') # remove start date"
   ]
  },
  {
   "cell_type": "code",
   "execution_count": 18,
   "id": "8715c8f2",
   "metadata": {},
   "outputs": [
    {
     "data": {
      "text/html": [
       "<div>\n",
       "<style scoped>\n",
       "    .dataframe tbody tr th:only-of-type {\n",
       "        vertical-align: middle;\n",
       "    }\n",
       "\n",
       "    .dataframe tbody tr th {\n",
       "        vertical-align: top;\n",
       "    }\n",
       "\n",
       "    .dataframe thead th {\n",
       "        text-align: right;\n",
       "    }\n",
       "</style>\n",
       "<table border=\"1\" class=\"dataframe\">\n",
       "  <thead>\n",
       "    <tr style=\"text-align: right;\">\n",
       "      <th></th>\n",
       "      <th>Forecast</th>\n",
       "      <th>Lower CI</th>\n",
       "      <th>Upper CI</th>\n",
       "    </tr>\n",
       "  </thead>\n",
       "  <tbody>\n",
       "    <tr>\n",
       "      <th>1961-01</th>\n",
       "      <td>446.728209</td>\n",
       "      <td>424.884597</td>\n",
       "      <td>468.571821</td>\n",
       "    </tr>\n",
       "    <tr>\n",
       "      <th>1961-02</th>\n",
       "      <td>423.354749</td>\n",
       "      <td>397.217402</td>\n",
       "      <td>449.492095</td>\n",
       "    </tr>\n",
       "    <tr>\n",
       "      <th>1961-03</th>\n",
       "      <td>456.481525</td>\n",
       "      <td>426.865632</td>\n",
       "      <td>486.097418</td>\n",
       "    </tr>\n",
       "    <tr>\n",
       "      <th>1961-04</th>\n",
       "      <td>491.604467</td>\n",
       "      <td>459.573600</td>\n",
       "      <td>523.635334</td>\n",
       "    </tr>\n",
       "    <tr>\n",
       "      <th>1961-05</th>\n",
       "      <td>505.178523</td>\n",
       "      <td>471.298182</td>\n",
       "      <td>539.058865</td>\n",
       "    </tr>\n",
       "  </tbody>\n",
       "</table>\n",
       "</div>"
      ],
      "text/plain": [
       "           Forecast    Lower CI    Upper CI\n",
       "1961-01  446.728209  424.884597  468.571821\n",
       "1961-02  423.354749  397.217402  449.492095\n",
       "1961-03  456.481525  426.865632  486.097418\n",
       "1961-04  491.604467  459.573600  523.635334\n",
       "1961-05  505.178523  471.298182  539.058865"
      ]
     },
     "execution_count": 18,
     "metadata": {},
     "output_type": "execute_result"
    }
   ],
   "source": [
    "# create a forecast dataframe\n",
    "forecast_df = pd.DataFrame({\n",
    "    \"Forecast\": list(forecast.predicted_mean),\n",
    "    \"Lower CI\": list(forecast.conf_int().iloc[:, 0]),\n",
    "    \"Upper CI\": list(forecast.conf_int().iloc[:, 1])\n",
    "}, index=forecast_index)\n",
    "\n",
    "forecast_df.head()"
   ]
  },
  {
   "cell_type": "code",
   "execution_count": 19,
   "id": "358d7390",
   "metadata": {},
   "outputs": [
    {
     "data": {
      "image/png": 
      "text/plain": [
       "<Figure size 1200x600 with 1 Axes>"
      ]
     },
     "metadata": {},
     "output_type": "display_data"
    }
   ],
   "source": [
    "# plot the forecast values\n",
    "\n",
    "plt.figure(figsize=(12, 6))\n",
    "plt.plot(df['#Passengers'], label='Historical Data')\n",
    "plt.plot(forecast_df['Forecast'], label='Forecast Data')\n",
    "plt.fill_between(forecast_df.index, forecast_df['Lower CI'], forecast_df['Upper CI'], color='k', alpha=0.1)\n",
    "plt.xlabel('Date')\n",
    "plt.ylabel('Number of Passengers')\n",
    "plt.title('Air Passengers Forecast')\n",
    "plt.xticks(rotation=90)\n",
    "plt.legend()\n",
    "plt.show()"
   ]
  },
  {
   "cell_type": "code",
   "execution_count": null,
   "id": "7f43e7ae",
   "metadata": {},
   "outputs": [],
   "source": []
  },
  {
   "cell_type": "code",
   "execution_count": null,
   "id": "1764ecd4",
   "metadata": {},
   "outputs": [],
   "source": []
  },
  {
   "cell_type": "code",
   "execution_count": null,
   "id": "1be1c3d0",
   "metadata": {},
   "outputs": [],
   "source": []
  }
 ],
 "metadata": {
  "kernelspec": {
   "display_name": "Python 3 (ipykernel)",
   "language": "python",
   "name": "python3"
  },
  "language_info": {
   "codemirror_mode": {
    "name": "ipython",
    "version": 3
   },
   "file_extension": ".py",
   "mimetype": "text/x-python",
   "name": "python",
   "nbconvert_exporter": "python",
   "pygments_lexer": "ipython3",
   "version": "3.11.5"
  }
 },
 "nbformat": 4,
 "nbformat_minor": 5
}
